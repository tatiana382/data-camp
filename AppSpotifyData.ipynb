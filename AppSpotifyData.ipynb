{
 "cells": [
  {
   "cell_type": "markdown",
   "metadata": {},
   "source": [
    "# **Sound Spot**"
   ]
  },
  {
   "cell_type": "markdown",
   "metadata": {},
   "source": [
    "##### Installation et importations"
   ]
  },
  {
   "cell_type": "code",
   "execution_count": 2,
   "metadata": {},
   "outputs": [],
   "source": [
    "# %pip install spotipy\n",
    "# %pip install selenium\n",
    "# pip install beautifulsoup4\n",
    "# %pip install pandas\n",
    "# %pip install --upgrade pip\n",
    "# %pip install bcrypt\n",
    "# %pip install mysql-connector-python\n",
    "# %pip install librosa\n",
    "# TODO: LIBROSA!!!\n",
    "import spotipy\n",
    "# from spotipy.oauth2 import SpotifyClientCredentials\n",
    "from spotipy.oauth2 import SpotifyOAuth\n",
    "\n",
    "import pandas as pd\n",
    "import numpy as np\n",
    "# import json\n",
    "\n",
    "import requests\n",
    "\n",
    "from selenium import webdriver\n",
    "\n",
    "import sys\n",
    "sys.path.append('GitHub\\\\data-camp\\\\secured_passwd.py')\n",
    "from secured_passwd import CLIENT_ID, CLIENT_SECRET, SQL_PASSWD, GENIUS_ID, GENIUS_SECRET_ID\n",
    "\n",
    "import re\n",
    "import time\n",
    "\n",
    "import lyricsgenius\n",
    "\n",
    "import mysql.connector"
   ]
  },
  {
   "cell_type": "markdown",
   "metadata": {},
   "source": [
    "Authorization Site : https://accounts.spotify.com/fr/authorize?client_id=ee862f2c84fe4f00929c71fb2eb50807&response_type=code&redirect_uri=https%3A%2F%2Fopen.spotify.com&scope=playlist-read-private"
   ]
  },
  {
   "cell_type": "code",
   "execution_count": 3,
   "metadata": {},
   "outputs": [],
   "source": [
    "# IDs\n",
    "client_id = CLIENT_ID\n",
    "client_secret = CLIENT_SECRET\n",
    "\n",
    "genius_id = GENIUS_ID\n",
    "genius_secret_id = GENIUS_SECRET_ID"
   ]
  },
  {
   "cell_type": "markdown",
   "metadata": {},
   "source": [
    "##### Accéder aux infos Spotify de l'utilisateurs pour créer notre BDD"
   ]
  },
  {
   "cell_type": "code",
   "execution_count": 4,
   "metadata": {},
   "outputs": [],
   "source": [
    "# Créez une instance de Spotipy avec des identifiants client\n",
    "sp_oauth = SpotifyOAuth(\n",
    "    client_id = client_id,\n",
    "    client_secret = client_secret,\n",
    "    redirect_uri = 'https://open.spotify.com',\n",
    "    scope = 'user-library-read',  # Autorisations nécessaires, y compris la lecture des playlists privées\n",
    "    cache_path='.cache'\n",
    ")\n"
   ]
  },
  {
   "cell_type": "code",
   "execution_count": 5,
   "metadata": {},
   "outputs": [],
   "source": [
    "def mysql_connexion():\n",
    "    # Create a connexion to the database\n",
    "    connexion = mysql.connector.connect(\n",
    "        host='192.168.1.76',\n",
    "        user='soundspothandler',\n",
    "        password=SQL_PASSWD,\n",
    "        database='sound_spot'\n",
    "    )\n",
    "\n",
    "    # Create a cursor to execute SQL queries\n",
    "    cursor = connexion.cursor()\n",
    "\n",
    "    return cursor, connexion"
   ]
  },
  {
   "cell_type": "code",
   "execution_count": 6,
   "metadata": {},
   "outputs": [],
   "source": [
    "# util.prompt_for_user_token(username,scope,client_id='your-spotify-client-id',client_secret='your-spotify-client-secret',redirect_uri='your-app-redirect-url')\n",
    "def spotify_access_token():\n",
    "    # Obtenir le jeton d'accès ou le renouveler s'il est expiré\n",
    "    token_info = sp_oauth.get_cached_token()\n",
    "    print(\"TOKEN EXISTS : \", token_info)\n",
    "\n",
    "    # Vérifiez si le jeton d'accès est valide\n",
    "    if not token_info:\n",
    "\n",
    "        auth_url = sp_oauth.get_authorize_url()\n",
    "\n",
    "        print(auth_url)\n",
    "\n",
    "        driver = webdriver.Chrome()\n",
    "\n",
    "        driver.get(auth_url)\n",
    "\n",
    "        # Attendez que l'utilisateur autorise l'application et soit redirigé\n",
    "        input(\"Appuyez sur Entrée une fois redirigé vers l'URL de redirection...\")\n",
    "\n",
    "        final_url = driver.current_url\n",
    "\n",
    "        driver.quit()\n",
    "        \n",
    "        response = requests.get(final_url)\n",
    "        print('RESPONSE : ', response.url)\n",
    "        code = sp_oauth.get_authorization_code(response.url)\n",
    "        print(\"CODE : \", code)\n",
    "\n",
    "        access_token = sp_oauth.get_access_token(code, as_dict = False)\n",
    "        # print(\"TOKEN : \", access_token)\n",
    "    else:\n",
    "        access_token = token_info['access_token']\n",
    "    return access_token"
   ]
  },
  {
   "cell_type": "code",
   "execution_count": 7,
   "metadata": {},
   "outputs": [],
   "source": [
    "def add_to_sql_db():\n",
    "\n",
    "    cursor, connexion = mysql_connexion()\n",
    "\n",
    "    # Convertir la liste en une chaîne de caractères\n",
    "    other_artists_str = ', '.join(other_artists)\n",
    "\n",
    "    # Convertir la liste des genres en une chaîne de caractères\n",
    "    genres_str = ', '.join(main_artist_info['genres'])\n",
    "\n",
    "    query_insert_into_main_artist = \"INSERT INTO MAIN_ARTIST (main_artist_id, main_artist_name, main_artist_popularity, main_artist_genre, main_artist_image_url) VALUES (%s, %s, %s, %s, %s)\"\n",
    "    query_insert_into_track = \"INSERT INTO TRACK (track_id, main_artist_id, released_date, loudness, tempo, tempo_confidence, time_signature, time_signature_confidence, track_name, track_popularity, other_artists, track_image_url, lyrics) VALUES (%s, %s, %s, %s, %s, %s, %s, %s, %s, %s, %s, %s, %s)\"\n",
    "    \n",
    "    values_in_main_artist = (main_artist_id, main_artist_info['name'], main_artist_info['popularity'], genres_str, main_artist_image_url)\n",
    "    values_in_track = (track_info['id'], main_artist_id, track_info['album']['release_date'], loudness, tempo, tempo_confidence, time_signature, time_signature_confidence, track_name, track_info['popularity'], other_artists_str, track_info['album']['images'][0]['url'], get_lyrics)\n",
    "\n",
    "    try:\n",
    "        cursor.execute(query_insert_into_main_artist, values_in_main_artist)\n",
    "        # cursor.execute(query_insert_into_track, values_in_track)\n",
    "        connexion.commit()\n",
    "    except mysql.connector.Error as err:\n",
    "        print(f\"Erreur lors de l'insertion : {err}\")\n",
    "\n",
    "    try:\n",
    "        # cursor.execute(query_insert_into_main_artist, values_in_main_artist)\n",
    "        cursor.execute(query_insert_into_track, values_in_track)\n",
    "        connexion.commit()\n",
    "    except mysql.connector.Error as err:\n",
    "        print(f\"Erreur lors de l'insertion : {err}\")\n",
    "    \n",
    "    # Vérifier si les paroles existent\n",
    "    existing_lyrics_query = f\"SELECT lyrics FROM TRACK WHERE lyrics = 'Aucunes paroles trouvées pour cette chanson.'\"\n",
    "    cursor.execute(existing_lyrics_query, (track_info['id'],))\n",
    "    existing_lyrics = cursor.fetchone()\n",
    "\n",
    "    if existing_lyrics[0] is None:\n",
    "        # Si les paroles n'existent pas, les insérer\n",
    "        lyrics = fetch_lyrics(artist_name, track_name, new_access_token)\n",
    "        update_query = \"UPDATE TRACK SET lyrics = %s WHERE track_id = %s\"\n",
    "        cursor.execute(update_query, (lyrics, track_info['id']))\n",
    "    else:\n",
    "        # Les paroles existent déjà, vous pouvez les laisser en l'état ou effectuer d'autres actions selon vos besoins.\n",
    "        pass\n",
    "\n",
    "    # Commit pour enregistrer les modifications\n",
    "    connexion.commit()\n",
    "\n",
    "    # Fermer le curseur et la connexion\n",
    "    cursor.close()\n",
    "    connexion.close()"
   ]
  },
  {
   "cell_type": "code",
   "execution_count": 8,
   "metadata": {},
   "outputs": [],
   "source": [
    "def genius_token():\n",
    "\n",
    "    # Les informations d'authentification de votre application\n",
    "    client_id = GENIUS_ID\n",
    "    client_secret = GENIUS_SECRET_ID\n",
    "\n",
    "    # Params to obtain a new access token\n",
    "    token_url = 'https://api.genius.com/oauth/token'\n",
    "    data = {\n",
    "        'grant_type': 'client_credentials',\n",
    "        'client_id': client_id,\n",
    "        'client_secret': client_secret\n",
    "    }\n",
    "\n",
    "    # Do a POST request to have a new access token\n",
    "    response = requests.post(token_url, data=data)\n",
    "\n",
    "    if response.status_code == 200:\n",
    "        # Access token is in the response\n",
    "        new_access_token = response.json()['access_token']\n",
    "        # print(f\"Nouveau jeton d'accès : {new_access_token}\")\n",
    "        return new_access_token\n",
    "    else:\n",
    "        print(\"Échec de la génération du jeton d'accès.\")"
   ]
  },
  {
   "cell_type": "code",
   "execution_count": 9,
   "metadata": {},
   "outputs": [
    {
     "name": "stdout",
     "output_type": "stream",
     "text": [
      "TOKEN EXISTS :  {'access_token': 'BQCsN76mAx8SNzc93ahJrL7PwImSa8ngsOSSGxgqjN_xwWeeOtyF_blqu1Lj8Z9wsSCevBK8QVQqfGpAK_OHOA9dkyHswB3rT9E_RkgEQirxg32gR6fAjpcKjY2PzhjEY2yXofQvOkbHPxNy3bzt5KVVquNhQFG_sjl9lKW5isOl15ejaSfGR8p2FboS4lGX5IT--fubYS8we8M', 'token_type': 'Bearer', 'expires_in': 3600, 'scope': 'user-library-read', 'expires_at': 1698745201, 'refresh_token': 'AQA1KuNc15AwIB3zyFJmz4epi9YPKp-Fz_b3neDBulVt_K2mYEy5QlD3OG_9CHmHN9nhd-oKi6jWKG7HeCRO1NT2FoFJUvDN4wUYcKsyqSHjoecuKIDMuFHXA75NQhPanuE'}\n",
      "Nom de la playlist : My recommendation playlist\n",
      "Propriétaire de la playlist : Chelsie\n",
      "Nombre de pistes dans la playlist : 10\n",
      "TOKEN EXISTS :  {'access_token': 'BQCsN76mAx8SNzc93ahJrL7PwImSa8ngsOSSGxgqjN_xwWeeOtyF_blqu1Lj8Z9wsSCevBK8QVQqfGpAK_OHOA9dkyHswB3rT9E_RkgEQirxg32gR6fAjpcKjY2PzhjEY2yXofQvOkbHPxNy3bzt5KVVquNhQFG_sjl9lKW5isOl15ejaSfGR8p2FboS4lGX5IT--fubYS8we8M', 'token_type': 'Bearer', 'expires_in': 3600, 'scope': 'user-library-read', 'expires_at': 1698745201, 'refresh_token': 'AQA1KuNc15AwIB3zyFJmz4epi9YPKp-Fz_b3neDBulVt_K2mYEy5QlD3OG_9CHmHN9nhd-oKi6jWKG7HeCRO1NT2FoFJUvDN4wUYcKsyqSHjoecuKIDMuFHXA75NQhPanuE'}\n"
     ]
    },
    {
     "name": "stderr",
     "output_type": "stream",
     "text": [
      "Max Retries reached\n"
     ]
    },
    {
     "name": "stdout",
     "output_type": "stream",
     "text": [
      "Erreur lors de la récupération des données : http status: 429, code:-1 - /v1/audio-analysis/0WH65R3DLtFPh8KN2b1mzI:\n",
      " Max Retries, reason: too many 429 error responses\n",
      "Réessai dans 5 secondes...\n"
     ]
    },
    {
     "name": "stderr",
     "output_type": "stream",
     "text": [
      "Max Retries reached\n"
     ]
    },
    {
     "name": "stdout",
     "output_type": "stream",
     "text": [
      "Erreur lors de la récupération des données : http status: 429, code:-1 - /v1/audio-analysis/0WH65R3DLtFPh8KN2b1mzI:\n",
      " Max Retries, reason: too many 429 error responses\n",
      "Réessai dans 5 secondes...\n"
     ]
    },
    {
     "name": "stderr",
     "output_type": "stream",
     "text": [
      "Max Retries reached\n"
     ]
    },
    {
     "name": "stdout",
     "output_type": "stream",
     "text": [
      "Erreur lors de la récupération des données : http status: 429, code:-1 - /v1/audio-analysis/0WH65R3DLtFPh8KN2b1mzI:\n",
      " Max Retries, reason: too many 429 error responses\n",
      "Nombre maximal de tentatives atteint. Abandon.\n",
      "TOKEN EXISTS :  {'access_token': 'BQCsN76mAx8SNzc93ahJrL7PwImSa8ngsOSSGxgqjN_xwWeeOtyF_blqu1Lj8Z9wsSCevBK8QVQqfGpAK_OHOA9dkyHswB3rT9E_RkgEQirxg32gR6fAjpcKjY2PzhjEY2yXofQvOkbHPxNy3bzt5KVVquNhQFG_sjl9lKW5isOl15ejaSfGR8p2FboS4lGX5IT--fubYS8we8M', 'token_type': 'Bearer', 'expires_in': 3600, 'scope': 'user-library-read', 'expires_at': 1698745201, 'refresh_token': 'AQA1KuNc15AwIB3zyFJmz4epi9YPKp-Fz_b3neDBulVt_K2mYEy5QlD3OG_9CHmHN9nhd-oKi6jWKG7HeCRO1NT2FoFJUvDN4wUYcKsyqSHjoecuKIDMuFHXA75NQhPanuE'}\n"
     ]
    },
    {
     "name": "stderr",
     "output_type": "stream",
     "text": [
      "Max Retries reached\n"
     ]
    },
    {
     "name": "stdout",
     "output_type": "stream",
     "text": [
      "Erreur lors de la récupération des données : http status: 429, code:-1 - /v1/audio-analysis/0WH65R3DLtFPh8KN2b1mzI:\n",
      " Max Retries, reason: too many 429 error responses\n",
      "Réessai dans 5 secondes...\n"
     ]
    },
    {
     "ename": "KeyboardInterrupt",
     "evalue": "",
     "output_type": "error",
     "traceback": [
      "\u001b[1;31m---------------------------------------------------------------------------\u001b[0m",
      "\u001b[1;31mResponseError\u001b[0m                             Traceback (most recent call last)",
      "\u001b[1;31mResponseError\u001b[0m: too many 429 error responses",
      "\nThe above exception was the direct cause of the following exception:\n",
      "\u001b[1;31mMaxRetryError\u001b[0m                             Traceback (most recent call last)",
      "File \u001b[1;32mc:\\Users\\louis\\AppData\\Local\\Programs\\Python\\Python312\\Lib\\site-packages\\requests\\adapters.py:486\u001b[0m, in \u001b[0;36mHTTPAdapter.send\u001b[1;34m(self, request, stream, timeout, verify, cert, proxies)\u001b[0m\n\u001b[0;32m    485\u001b[0m \u001b[39mtry\u001b[39;00m:\n\u001b[1;32m--> 486\u001b[0m     resp \u001b[39m=\u001b[39m conn\u001b[39m.\u001b[39;49murlopen(\n\u001b[0;32m    487\u001b[0m         method\u001b[39m=\u001b[39;49mrequest\u001b[39m.\u001b[39;49mmethod,\n\u001b[0;32m    488\u001b[0m         url\u001b[39m=\u001b[39;49murl,\n\u001b[0;32m    489\u001b[0m         body\u001b[39m=\u001b[39;49mrequest\u001b[39m.\u001b[39;49mbody,\n\u001b[0;32m    490\u001b[0m         headers\u001b[39m=\u001b[39;49mrequest\u001b[39m.\u001b[39;49mheaders,\n\u001b[0;32m    491\u001b[0m         redirect\u001b[39m=\u001b[39;49m\u001b[39mFalse\u001b[39;49;00m,\n\u001b[0;32m    492\u001b[0m         assert_same_host\u001b[39m=\u001b[39;49m\u001b[39mFalse\u001b[39;49;00m,\n\u001b[0;32m    493\u001b[0m         preload_content\u001b[39m=\u001b[39;49m\u001b[39mFalse\u001b[39;49;00m,\n\u001b[0;32m    494\u001b[0m         decode_content\u001b[39m=\u001b[39;49m\u001b[39mFalse\u001b[39;49;00m,\n\u001b[0;32m    495\u001b[0m         retries\u001b[39m=\u001b[39;49m\u001b[39mself\u001b[39;49m\u001b[39m.\u001b[39;49mmax_retries,\n\u001b[0;32m    496\u001b[0m         timeout\u001b[39m=\u001b[39;49mtimeout,\n\u001b[0;32m    497\u001b[0m         chunked\u001b[39m=\u001b[39;49mchunked,\n\u001b[0;32m    498\u001b[0m     )\n\u001b[0;32m    500\u001b[0m \u001b[39mexcept\u001b[39;00m (ProtocolError, \u001b[39mOSError\u001b[39;00m) \u001b[39mas\u001b[39;00m err:\n",
      "File \u001b[1;32mc:\\Users\\louis\\AppData\\Local\\Programs\\Python\\Python312\\Lib\\site-packages\\urllib3\\connectionpool.py:946\u001b[0m, in \u001b[0;36mHTTPConnectionPool.urlopen\u001b[1;34m(self, method, url, body, headers, retries, redirect, assert_same_host, timeout, pool_timeout, release_conn, chunked, body_pos, preload_content, decode_content, **response_kw)\u001b[0m\n\u001b[0;32m    945\u001b[0m     log\u001b[39m.\u001b[39mdebug(\u001b[39m\"\u001b[39m\u001b[39mRetry: \u001b[39m\u001b[39m%s\u001b[39;00m\u001b[39m\"\u001b[39m, url)\n\u001b[1;32m--> 946\u001b[0m     \u001b[39mreturn\u001b[39;00m \u001b[39mself\u001b[39;49m\u001b[39m.\u001b[39;49murlopen(\n\u001b[0;32m    947\u001b[0m         method,\n\u001b[0;32m    948\u001b[0m         url,\n\u001b[0;32m    949\u001b[0m         body,\n\u001b[0;32m    950\u001b[0m         headers,\n\u001b[0;32m    951\u001b[0m         retries\u001b[39m=\u001b[39;49mretries,\n\u001b[0;32m    952\u001b[0m         redirect\u001b[39m=\u001b[39;49mredirect,\n\u001b[0;32m    953\u001b[0m         assert_same_host\u001b[39m=\u001b[39;49massert_same_host,\n\u001b[0;32m    954\u001b[0m         timeout\u001b[39m=\u001b[39;49mtimeout,\n\u001b[0;32m    955\u001b[0m         pool_timeout\u001b[39m=\u001b[39;49mpool_timeout,\n\u001b[0;32m    956\u001b[0m         release_conn\u001b[39m=\u001b[39;49mrelease_conn,\n\u001b[0;32m    957\u001b[0m         chunked\u001b[39m=\u001b[39;49mchunked,\n\u001b[0;32m    958\u001b[0m         body_pos\u001b[39m=\u001b[39;49mbody_pos,\n\u001b[0;32m    959\u001b[0m         preload_content\u001b[39m=\u001b[39;49mpreload_content,\n\u001b[0;32m    960\u001b[0m         decode_content\u001b[39m=\u001b[39;49mdecode_content,\n\u001b[0;32m    961\u001b[0m         \u001b[39m*\u001b[39;49m\u001b[39m*\u001b[39;49mresponse_kw,\n\u001b[0;32m    962\u001b[0m     )\n\u001b[0;32m    964\u001b[0m \u001b[39mreturn\u001b[39;00m response\n",
      "File \u001b[1;32mc:\\Users\\louis\\AppData\\Local\\Programs\\Python\\Python312\\Lib\\site-packages\\urllib3\\connectionpool.py:946\u001b[0m, in \u001b[0;36mHTTPConnectionPool.urlopen\u001b[1;34m(self, method, url, body, headers, retries, redirect, assert_same_host, timeout, pool_timeout, release_conn, chunked, body_pos, preload_content, decode_content, **response_kw)\u001b[0m\n\u001b[0;32m    945\u001b[0m     log\u001b[39m.\u001b[39mdebug(\u001b[39m\"\u001b[39m\u001b[39mRetry: \u001b[39m\u001b[39m%s\u001b[39;00m\u001b[39m\"\u001b[39m, url)\n\u001b[1;32m--> 946\u001b[0m     \u001b[39mreturn\u001b[39;00m \u001b[39mself\u001b[39;49m\u001b[39m.\u001b[39;49murlopen(\n\u001b[0;32m    947\u001b[0m         method,\n\u001b[0;32m    948\u001b[0m         url,\n\u001b[0;32m    949\u001b[0m         body,\n\u001b[0;32m    950\u001b[0m         headers,\n\u001b[0;32m    951\u001b[0m         retries\u001b[39m=\u001b[39;49mretries,\n\u001b[0;32m    952\u001b[0m         redirect\u001b[39m=\u001b[39;49mredirect,\n\u001b[0;32m    953\u001b[0m         assert_same_host\u001b[39m=\u001b[39;49massert_same_host,\n\u001b[0;32m    954\u001b[0m         timeout\u001b[39m=\u001b[39;49mtimeout,\n\u001b[0;32m    955\u001b[0m         pool_timeout\u001b[39m=\u001b[39;49mpool_timeout,\n\u001b[0;32m    956\u001b[0m         release_conn\u001b[39m=\u001b[39;49mrelease_conn,\n\u001b[0;32m    957\u001b[0m         chunked\u001b[39m=\u001b[39;49mchunked,\n\u001b[0;32m    958\u001b[0m         body_pos\u001b[39m=\u001b[39;49mbody_pos,\n\u001b[0;32m    959\u001b[0m         preload_content\u001b[39m=\u001b[39;49mpreload_content,\n\u001b[0;32m    960\u001b[0m         decode_content\u001b[39m=\u001b[39;49mdecode_content,\n\u001b[0;32m    961\u001b[0m         \u001b[39m*\u001b[39;49m\u001b[39m*\u001b[39;49mresponse_kw,\n\u001b[0;32m    962\u001b[0m     )\n\u001b[0;32m    964\u001b[0m \u001b[39mreturn\u001b[39;00m response\n",
      "File \u001b[1;32mc:\\Users\\louis\\AppData\\Local\\Programs\\Python\\Python312\\Lib\\site-packages\\urllib3\\connectionpool.py:946\u001b[0m, in \u001b[0;36mHTTPConnectionPool.urlopen\u001b[1;34m(self, method, url, body, headers, retries, redirect, assert_same_host, timeout, pool_timeout, release_conn, chunked, body_pos, preload_content, decode_content, **response_kw)\u001b[0m\n\u001b[0;32m    945\u001b[0m     log\u001b[39m.\u001b[39mdebug(\u001b[39m\"\u001b[39m\u001b[39mRetry: \u001b[39m\u001b[39m%s\u001b[39;00m\u001b[39m\"\u001b[39m, url)\n\u001b[1;32m--> 946\u001b[0m     \u001b[39mreturn\u001b[39;00m \u001b[39mself\u001b[39;49m\u001b[39m.\u001b[39;49murlopen(\n\u001b[0;32m    947\u001b[0m         method,\n\u001b[0;32m    948\u001b[0m         url,\n\u001b[0;32m    949\u001b[0m         body,\n\u001b[0;32m    950\u001b[0m         headers,\n\u001b[0;32m    951\u001b[0m         retries\u001b[39m=\u001b[39;49mretries,\n\u001b[0;32m    952\u001b[0m         redirect\u001b[39m=\u001b[39;49mredirect,\n\u001b[0;32m    953\u001b[0m         assert_same_host\u001b[39m=\u001b[39;49massert_same_host,\n\u001b[0;32m    954\u001b[0m         timeout\u001b[39m=\u001b[39;49mtimeout,\n\u001b[0;32m    955\u001b[0m         pool_timeout\u001b[39m=\u001b[39;49mpool_timeout,\n\u001b[0;32m    956\u001b[0m         release_conn\u001b[39m=\u001b[39;49mrelease_conn,\n\u001b[0;32m    957\u001b[0m         chunked\u001b[39m=\u001b[39;49mchunked,\n\u001b[0;32m    958\u001b[0m         body_pos\u001b[39m=\u001b[39;49mbody_pos,\n\u001b[0;32m    959\u001b[0m         preload_content\u001b[39m=\u001b[39;49mpreload_content,\n\u001b[0;32m    960\u001b[0m         decode_content\u001b[39m=\u001b[39;49mdecode_content,\n\u001b[0;32m    961\u001b[0m         \u001b[39m*\u001b[39;49m\u001b[39m*\u001b[39;49mresponse_kw,\n\u001b[0;32m    962\u001b[0m     )\n\u001b[0;32m    964\u001b[0m \u001b[39mreturn\u001b[39;00m response\n",
      "File \u001b[1;32mc:\\Users\\louis\\AppData\\Local\\Programs\\Python\\Python312\\Lib\\site-packages\\urllib3\\connectionpool.py:936\u001b[0m, in \u001b[0;36mHTTPConnectionPool.urlopen\u001b[1;34m(self, method, url, body, headers, retries, redirect, assert_same_host, timeout, pool_timeout, release_conn, chunked, body_pos, preload_content, decode_content, **response_kw)\u001b[0m\n\u001b[0;32m    935\u001b[0m \u001b[39mtry\u001b[39;00m:\n\u001b[1;32m--> 936\u001b[0m     retries \u001b[39m=\u001b[39m retries\u001b[39m.\u001b[39;49mincrement(method, url, response\u001b[39m=\u001b[39;49mresponse, _pool\u001b[39m=\u001b[39;49m\u001b[39mself\u001b[39;49m)\n\u001b[0;32m    937\u001b[0m \u001b[39mexcept\u001b[39;00m MaxRetryError:\n",
      "File \u001b[1;32mc:\\Users\\louis\\AppData\\Local\\Programs\\Python\\Python312\\Lib\\site-packages\\urllib3\\util\\retry.py:515\u001b[0m, in \u001b[0;36mRetry.increment\u001b[1;34m(self, method, url, response, error, _pool, _stacktrace)\u001b[0m\n\u001b[0;32m    514\u001b[0m     reason \u001b[39m=\u001b[39m error \u001b[39mor\u001b[39;00m ResponseError(cause)\n\u001b[1;32m--> 515\u001b[0m     \u001b[39mraise\u001b[39;00m MaxRetryError(_pool, url, reason) \u001b[39mfrom\u001b[39;00m \u001b[39mreason\u001b[39;00m  \u001b[39m# type: ignore[arg-type]\u001b[39;00m\n\u001b[0;32m    517\u001b[0m log\u001b[39m.\u001b[39mdebug(\u001b[39m\"\u001b[39m\u001b[39mIncremented Retry for (url=\u001b[39m\u001b[39m'\u001b[39m\u001b[39m%s\u001b[39;00m\u001b[39m'\u001b[39m\u001b[39m): \u001b[39m\u001b[39m%r\u001b[39;00m\u001b[39m\"\u001b[39m, url, new_retry)\n",
      "\u001b[1;31mMaxRetryError\u001b[0m: HTTPSConnectionPool(host='api.spotify.com', port=443): Max retries exceeded with url: /v1/audio-analysis/0WH65R3DLtFPh8KN2b1mzI (Caused by ResponseError('too many 429 error responses'))",
      "\nDuring handling of the above exception, another exception occurred:\n",
      "\u001b[1;31mRetryError\u001b[0m                                Traceback (most recent call last)",
      "File \u001b[1;32mc:\\Users\\louis\\AppData\\Local\\Programs\\Python\\Python312\\Lib\\site-packages\\spotipy\\client.py:266\u001b[0m, in \u001b[0;36mSpotify._internal_call\u001b[1;34m(self, method, url, payload, params)\u001b[0m\n\u001b[0;32m    265\u001b[0m \u001b[39mtry\u001b[39;00m:\n\u001b[1;32m--> 266\u001b[0m     response \u001b[39m=\u001b[39m \u001b[39mself\u001b[39;49m\u001b[39m.\u001b[39;49m_session\u001b[39m.\u001b[39;49mrequest(\n\u001b[0;32m    267\u001b[0m         method, url, headers\u001b[39m=\u001b[39;49mheaders, proxies\u001b[39m=\u001b[39;49m\u001b[39mself\u001b[39;49m\u001b[39m.\u001b[39;49mproxies,\n\u001b[0;32m    268\u001b[0m         timeout\u001b[39m=\u001b[39;49m\u001b[39mself\u001b[39;49m\u001b[39m.\u001b[39;49mrequests_timeout, \u001b[39m*\u001b[39;49m\u001b[39m*\u001b[39;49margs\n\u001b[0;32m    269\u001b[0m     )\n\u001b[0;32m    271\u001b[0m     response\u001b[39m.\u001b[39mraise_for_status()\n",
      "File \u001b[1;32mc:\\Users\\louis\\AppData\\Local\\Programs\\Python\\Python312\\Lib\\site-packages\\requests\\sessions.py:589\u001b[0m, in \u001b[0;36mSession.request\u001b[1;34m(self, method, url, params, data, headers, cookies, files, auth, timeout, allow_redirects, proxies, hooks, stream, verify, cert, json)\u001b[0m\n\u001b[0;32m    588\u001b[0m send_kwargs\u001b[39m.\u001b[39mupdate(settings)\n\u001b[1;32m--> 589\u001b[0m resp \u001b[39m=\u001b[39m \u001b[39mself\u001b[39;49m\u001b[39m.\u001b[39;49msend(prep, \u001b[39m*\u001b[39;49m\u001b[39m*\u001b[39;49msend_kwargs)\n\u001b[0;32m    591\u001b[0m \u001b[39mreturn\u001b[39;00m resp\n",
      "File \u001b[1;32mc:\\Users\\louis\\AppData\\Local\\Programs\\Python\\Python312\\Lib\\site-packages\\requests\\sessions.py:703\u001b[0m, in \u001b[0;36mSession.send\u001b[1;34m(self, request, **kwargs)\u001b[0m\n\u001b[0;32m    702\u001b[0m \u001b[39m# Send the request\u001b[39;00m\n\u001b[1;32m--> 703\u001b[0m r \u001b[39m=\u001b[39m adapter\u001b[39m.\u001b[39;49msend(request, \u001b[39m*\u001b[39;49m\u001b[39m*\u001b[39;49mkwargs)\n\u001b[0;32m    705\u001b[0m \u001b[39m# Total elapsed time of the request (approximately)\u001b[39;00m\n",
      "File \u001b[1;32mc:\\Users\\louis\\AppData\\Local\\Programs\\Python\\Python312\\Lib\\site-packages\\requests\\adapters.py:510\u001b[0m, in \u001b[0;36mHTTPAdapter.send\u001b[1;34m(self, request, stream, timeout, verify, cert, proxies)\u001b[0m\n\u001b[0;32m    509\u001b[0m \u001b[39mif\u001b[39;00m \u001b[39misinstance\u001b[39m(e\u001b[39m.\u001b[39mreason, ResponseError):\n\u001b[1;32m--> 510\u001b[0m     \u001b[39mraise\u001b[39;00m RetryError(e, request\u001b[39m=\u001b[39mrequest)\n\u001b[0;32m    512\u001b[0m \u001b[39mif\u001b[39;00m \u001b[39misinstance\u001b[39m(e\u001b[39m.\u001b[39mreason, _ProxyError):\n",
      "\u001b[1;31mRetryError\u001b[0m: HTTPSConnectionPool(host='api.spotify.com', port=443): Max retries exceeded with url: /v1/audio-analysis/0WH65R3DLtFPh8KN2b1mzI (Caused by ResponseError('too many 429 error responses'))",
      "\nDuring handling of the above exception, another exception occurred:\n",
      "\u001b[1;31mSpotifyException\u001b[0m                          Traceback (most recent call last)",
      "\u001b[1;32mc:\\Users\\louis\\OneDrive\\Documents\\GitHub\\data-camp\\AppSpotifyData.ipynb Cell 12\u001b[0m line \u001b[0;36m4\n\u001b[0;32m     <a href='vscode-notebook-cell:/c%3A/Users/louis/OneDrive/Documents/GitHub/data-camp/AppSpotifyData.ipynb#X14sZmlsZQ%3D%3D?line=40'>41</a>\u001b[0m \u001b[39m# Audio\u001b[39;00m\n\u001b[1;32m---> <a href='vscode-notebook-cell:/c%3A/Users/louis/OneDrive/Documents/GitHub/data-camp/AppSpotifyData.ipynb#X14sZmlsZQ%3D%3D?line=41'>42</a>\u001b[0m audio \u001b[39m=\u001b[39m sp\u001b[39m.\u001b[39;49maudio_analysis(track_info[\u001b[39m'\u001b[39;49m\u001b[39mid\u001b[39;49m\u001b[39m'\u001b[39;49m])\n\u001b[0;32m     <a href='vscode-notebook-cell:/c%3A/Users/louis/OneDrive/Documents/GitHub/data-camp/AppSpotifyData.ipynb#X14sZmlsZQ%3D%3D?line=42'>43</a>\u001b[0m audio \u001b[39m=\u001b[39m audio[\u001b[39m'\u001b[39m\u001b[39mtrack\u001b[39m\u001b[39m'\u001b[39m]\n",
      "File \u001b[1;32mc:\\Users\\louis\\AppData\\Local\\Programs\\Python\\Python312\\Lib\\site-packages\\spotipy\\client.py:1725\u001b[0m, in \u001b[0;36mSpotify.audio_analysis\u001b[1;34m(self, track_id)\u001b[0m\n\u001b[0;32m   1724\u001b[0m trid \u001b[39m=\u001b[39m \u001b[39mself\u001b[39m\u001b[39m.\u001b[39m_get_id(\u001b[39m\"\u001b[39m\u001b[39mtrack\u001b[39m\u001b[39m\"\u001b[39m, track_id)\n\u001b[1;32m-> 1725\u001b[0m \u001b[39mreturn\u001b[39;00m \u001b[39mself\u001b[39;49m\u001b[39m.\u001b[39;49m_get(\u001b[39m\"\u001b[39;49m\u001b[39maudio-analysis/\u001b[39;49m\u001b[39m\"\u001b[39;49m \u001b[39m+\u001b[39;49m trid)\n",
      "File \u001b[1;32mc:\\Users\\louis\\AppData\\Local\\Programs\\Python\\Python312\\Lib\\site-packages\\spotipy\\client.py:323\u001b[0m, in \u001b[0;36mSpotify._get\u001b[1;34m(self, url, args, payload, **kwargs)\u001b[0m\n\u001b[0;32m    321\u001b[0m     kwargs\u001b[39m.\u001b[39mupdate(args)\n\u001b[1;32m--> 323\u001b[0m \u001b[39mreturn\u001b[39;00m \u001b[39mself\u001b[39;49m\u001b[39m.\u001b[39;49m_internal_call(\u001b[39m\"\u001b[39;49m\u001b[39mGET\u001b[39;49m\u001b[39m\"\u001b[39;49m, url, payload, kwargs)\n",
      "File \u001b[1;32mc:\\Users\\louis\\AppData\\Local\\Programs\\Python\\Python312\\Lib\\site-packages\\spotipy\\client.py:307\u001b[0m, in \u001b[0;36mSpotify._internal_call\u001b[1;34m(self, method, url, payload, params)\u001b[0m\n\u001b[0;32m    306\u001b[0m         reason \u001b[39m=\u001b[39m \u001b[39mNone\u001b[39;00m\n\u001b[1;32m--> 307\u001b[0m     \u001b[39mraise\u001b[39;00m SpotifyException(\n\u001b[0;32m    308\u001b[0m         \u001b[39m429\u001b[39m,\n\u001b[0;32m    309\u001b[0m         \u001b[39m-\u001b[39m\u001b[39m1\u001b[39m,\n\u001b[0;32m    310\u001b[0m         \u001b[39m\"\u001b[39m\u001b[39m%s\u001b[39;00m\u001b[39m:\u001b[39m\u001b[39m\\n\u001b[39;00m\u001b[39m \u001b[39m\u001b[39m%s\u001b[39;00m\u001b[39m\"\u001b[39m \u001b[39m%\u001b[39m (request\u001b[39m.\u001b[39mpath_url, \u001b[39m\"\u001b[39m\u001b[39mMax Retries\u001b[39m\u001b[39m\"\u001b[39m),\n\u001b[0;32m    311\u001b[0m         reason\u001b[39m=\u001b[39mreason\n\u001b[0;32m    312\u001b[0m     )\n\u001b[0;32m    313\u001b[0m \u001b[39mexcept\u001b[39;00m \u001b[39mValueError\u001b[39;00m:\n",
      "\u001b[1;31mSpotifyException\u001b[0m: http status: 429, code:-1 - /v1/audio-analysis/0WH65R3DLtFPh8KN2b1mzI:\n Max Retries, reason: too many 429 error responses",
      "\nDuring handling of the above exception, another exception occurred:\n",
      "\u001b[1;31mKeyboardInterrupt\u001b[0m                         Traceback (most recent call last)",
      "\u001b[1;32mc:\\Users\\louis\\OneDrive\\Documents\\GitHub\\data-camp\\AppSpotifyData.ipynb Cell 12\u001b[0m line \u001b[0;36m1\n\u001b[0;32m    <a href='vscode-notebook-cell:/c%3A/Users/louis/OneDrive/Documents/GitHub/data-camp/AppSpotifyData.ipynb#X14sZmlsZQ%3D%3D?line=104'>105</a>\u001b[0m \u001b[39mif\u001b[39;00m _ \u001b[39m<\u001b[39m max_retries \u001b[39m-\u001b[39m \u001b[39m1\u001b[39m:\n\u001b[0;32m    <a href='vscode-notebook-cell:/c%3A/Users/louis/OneDrive/Documents/GitHub/data-camp/AppSpotifyData.ipynb#X14sZmlsZQ%3D%3D?line=105'>106</a>\u001b[0m     \u001b[39mprint\u001b[39m(\u001b[39mf\u001b[39m\u001b[39m\"\u001b[39m\u001b[39mRéessai dans \u001b[39m\u001b[39m{\u001b[39;00mretry_delay\u001b[39m}\u001b[39;00m\u001b[39m secondes...\u001b[39m\u001b[39m\"\u001b[39m)\n\u001b[1;32m--> <a href='vscode-notebook-cell:/c%3A/Users/louis/OneDrive/Documents/GitHub/data-camp/AppSpotifyData.ipynb#X14sZmlsZQ%3D%3D?line=106'>107</a>\u001b[0m     time\u001b[39m.\u001b[39;49msleep(retry_delay)\n\u001b[0;32m    <a href='vscode-notebook-cell:/c%3A/Users/louis/OneDrive/Documents/GitHub/data-camp/AppSpotifyData.ipynb#X14sZmlsZQ%3D%3D?line=107'>108</a>\u001b[0m \u001b[39melse\u001b[39;00m:\n\u001b[0;32m    <a href='vscode-notebook-cell:/c%3A/Users/louis/OneDrive/Documents/GitHub/data-camp/AppSpotifyData.ipynb#X14sZmlsZQ%3D%3D?line=108'>109</a>\u001b[0m     \u001b[39mprint\u001b[39m(\u001b[39m\"\u001b[39m\u001b[39mNombre maximal de tentatives atteint. Abandon.\u001b[39m\u001b[39m\"\u001b[39m)\n",
      "\u001b[1;31mKeyboardInterrupt\u001b[0m: "
     ]
    }
   ],
   "source": [
    "# S'authentifier avec le jeton d'accès\n",
    "sp = spotipy.Spotify(auth=spotify_access_token())\n",
    "\n",
    "max_retries = 3  # Nombre maximal de tentatives\n",
    "retry_delay = 5  # Délai en secondes entre les tentatives\n",
    "\n",
    "# ID de la playlist Spotify que vous souhaitez récupérer (vous pouvez obtenir l'ID depuis l'URL de la playlist)\n",
    "playlist_id = 'https://open.spotify.com/playlist/4S1iqtui4d2kDtezNGWIgL?si=aa701d0a71fa4355&pt=123ef798a2e646a0619d8240d2f35821' # Private Playlist\n",
    "# playlist_id = 'https://open.spotify.com/playlist/37i9dQZEVXbhGLvgw0jIZm?si=d1e5dfd1966c45b8' # Public Playlist\n",
    "\n",
    "# Récupérez les informations sur la playlist\n",
    "playlist = sp.playlist(playlist_id)\n",
    "\n",
    "# Imprimez les informations sur la playlist\n",
    "print(f\"Nom de la playlist : {playlist['name']}\")\n",
    "print(f\"Propriétaire de la playlist : {playlist['owner']['display_name']}\")\n",
    "print(f\"Nombre de pistes dans la playlist : {playlist['tracks']['total']}\")\n",
    "\n",
    "# Liste des noms des pistes (en paginant)\n",
    "track_data = []\n",
    "results = sp.playlist_tracks(playlist_id)\n",
    "\n",
    "column_names = [\n",
    "    'Track ID', 'Main Artist ID', 'Track Name', 'Track Popularity',\n",
    "    'Track Released Date', 'Loudness', 'Tempo', 'Tempo Confidence',\n",
    "    'Time Signature', 'Time Signature Confidence', 'Main Artist',\n",
    "    'Main Artist Genre', 'Main Artist Popularity', 'Other Artists',\n",
    "    'Track URL', 'Track Image URL', 'Main Artist Image URL', 'Lyrics'\n",
    "]\n",
    "# data = pd.DataFrame()\n",
    "\n",
    "while results:\n",
    "    sp = spotipy.Spotify(auth=spotify_access_token())\n",
    "    for _ in range(max_retries):\n",
    "        try:\n",
    "            for track in results['items']:\n",
    "\n",
    "                # Track info\n",
    "                track_info = track['track']\n",
    "\n",
    "                # Audio\n",
    "                audio = sp.audio_analysis(track_info['id'])\n",
    "                audio = audio['track']\n",
    "\n",
    "                loudness = audio['loudness']\n",
    "                tempo = audio['tempo']\n",
    "                tempo_confidence = audio['tempo_confidence']\n",
    "                time_signature = audio['time_signature']\n",
    "                time_signature_confidence = audio['time_signature_confidence']\n",
    "\n",
    "                # Artists info\n",
    "                artists = track['track']['artists']\n",
    "                other_artists = []\n",
    "\n",
    "                main_artist_id = track_info['artists'][0]['id']\n",
    "                main_artist_info = sp.artist(main_artist_id)\n",
    "\n",
    "                for artist in artists:\n",
    "                    other_artists.append(artist['name'])\n",
    "                \n",
    "                other_artists.pop(0)\n",
    "\n",
    "                if 'images' in main_artist_info and main_artist_info['images']:\n",
    "                    main_artist_image_url = main_artist_info['images'][0]['url']\n",
    "                elif 'image' in main_artist_info:\n",
    "                    main_artist_image_url = main_artist_info['image']['url']\n",
    "                else:\n",
    "                    main_artist_image_url = None\n",
    "                \n",
    "                track_name = track_info['name'].replace(\".\", \"\")\n",
    "                track_name = re.sub(r'\\([^)]*\\)', '', track_name)\n",
    "                track_name = ' '.join(track_name.split())\n",
    "                artist_name = main_artist_info['name'].replace(\".\", \"\")\n",
    "          \n",
    "                get_lyrics = fetch_lyrics(artist_name, track_name, genius_token())\n",
    "\n",
    "                track_data.append([\n",
    "                    track_info['id'],\n",
    "                    main_artist_id,\n",
    "                    track_info['name'],\n",
    "                    track_info['popularity'],\n",
    "                    track_info['album']['release_date'],\n",
    "                    loudness,\n",
    "                    tempo,\n",
    "                    tempo_confidence,\n",
    "                    time_signature,\n",
    "                    time_signature_confidence,\n",
    "                    main_artist_info['name'],\n",
    "                    main_artist_info['genres'],\n",
    "                    main_artist_info['popularity'],\n",
    "                    other_artists,\n",
    "                    track_info['external_urls'],\n",
    "                    track_info['album']['images'][0]['url'],\n",
    "                    main_artist_image_url,\n",
    "                    get_lyrics\n",
    "                ])\n",
    "\n",
    "                add_to_sql_db()\n",
    "                # print(track_info['id'], main_artist_id)\n",
    "\n",
    "            results = sp.next(results)  # Charge the next page\n",
    "            break\n",
    "        except Exception as e:\n",
    "            print(f\"Erreur lors de la récupération des données : {str(e)}\")\n",
    "            if _ < max_retries - 1:\n",
    "                print(f\"Réessai dans {retry_delay} secondes...\")\n",
    "                time.sleep(retry_delay)\n",
    "            else:\n",
    "                print(\"Nombre maximal de tentatives atteint. Abandon.\")\n",
    "\n",
    "for idx in track_data:\n",
    "\n",
    "    data = pd.DataFrame(track_data, columns=column_names)\n"
   ]
  },
  {
   "cell_type": "markdown",
   "metadata": {},
   "source": [
    "##### Transform tables into dataframe and apply Machine Learning Models"
   ]
  },
  {
   "cell_type": "code",
   "execution_count": 10,
   "metadata": {},
   "outputs": [
    {
     "name": "stderr",
     "output_type": "stream",
     "text": [
      "C:\\Users\\louis\\AppData\\Local\\Temp\\ipykernel_22352\\391624903.py:9: UserWarning: pandas only supports SQLAlchemy connectable (engine/connection) or database string URI or sqlite3 DBAPI2 connection. Other DBAPI2 objects are not tested. Please consider using SQLAlchemy.\n",
      "  track_table = pd.read_sql(track_table_df_query, connexion)\n",
      "C:\\Users\\louis\\AppData\\Local\\Temp\\ipykernel_22352\\391624903.py:10: UserWarning: pandas only supports SQLAlchemy connectable (engine/connection) or database string URI or sqlite3 DBAPI2 connection. Other DBAPI2 objects are not tested. Please consider using SQLAlchemy.\n",
      "  artist_table = pd.read_sql(artist_table_df_query, connexion)\n"
     ]
    }
   ],
   "source": [
    "def to_dataframe():\n",
    "    cursor, connexion = mysql_connexion()\n",
    "\n",
    "    # SQL query to select data from a table\n",
    "    track_table_df_query = \"SELECT * FROM track\"\n",
    "    artist_table_df_query = \"SELECT * FROM main_artist\"\n",
    "\n",
    "   # Load the table into a Pandas DataFrame\n",
    "    track_table = pd.read_sql(track_table_df_query, connexion)\n",
    "    artist_table = pd.read_sql(artist_table_df_query, connexion)\n",
    "\n",
    "    # Close the database connection\n",
    "    connexion.close()\n",
    "\n",
    "    return track_table, artist_table\n",
    "\n",
    "track_table, artist_table = to_dataframe()"
   ]
  },
  {
   "cell_type": "code",
   "execution_count": 11,
   "metadata": {},
   "outputs": [],
   "source": [
    "data = pd.merge(track_table, artist_table, on='main_artist_id')\n",
    "data.to_csv('sound_spot_database.csv', index=False)"
   ]
  },
  {
   "cell_type": "code",
   "execution_count": null,
   "metadata": {},
   "outputs": [
    {
     "name": "stdout",
     "output_type": "stream",
     "text": [
      "Recommendation 1: You Right (Similarity Score: 0.9988631454616692)\n",
      "Recommendation 2: NASA (Similarity Score: 0.980074553989174)\n",
      "Recommendation 3: The Great British Bar Off (Similarity Score: 0.9712339266763266)\n",
      "Recommendation 4: Codé (Similarity Score: 0.9683889072551598)\n",
      "Recommendation 5: I Should've Known (Similarity Score: 0.9614071294917977)\n"
     ]
    }
   ],
   "source": [
    "from sklearn.preprocessing import LabelEncoder\n",
    "\n",
    "# Créez une instance de LabelEncoder\n",
    "label_encoder = LabelEncoder()\n",
    "\n",
    "# Liste des colonnes à encoder\n",
    "columns_to_encode = ['track_name', 'other_artists', 'lyrics', 'main_artist_name', 'main_artist_genre']\n",
    "\n",
    "# Parcourez les colonnes et encodez-les\n",
    "for col in columns_to_encode:\n",
    "    data[col] = label_encoder.fit_transform(data[col])\n",
    "\n",
    "from sklearn.metrics.pairwise import cosine_similarity\n",
    "\n",
    "# Calculate cosine similarity between tracks based on selected features\n",
    "features = ['loudness', 'track_popularity', 'track_name',\n",
    "            'track_popularity', 'other_artists', 'lyrics',\n",
    "            'main_artist_name', 'main_artist_popularity',\n",
    "            'main_artist_genre']\n",
    "\n",
    "data_features = data[features].fillna(0)\n",
    "cosine_sim = cosine_similarity(data_features)\n",
    "\n",
    "# Get recommendations for a specific track\n",
    "track_name = \"Mourning\"\n",
    "track_idx = track_table[track_table['track_name'] == track_name].index[0]\n",
    "\n",
    "# Get the most similar tracks\n",
    "similar_tracks = list(enumerate(cosine_sim[track_idx]))\n",
    "similar_tracks = sorted(similar_tracks, key=lambda x: x[1], reverse=True)\n",
    "\n",
    "# Print the top recommended tracks\n",
    "num_recommendations = 5\n",
    "for i in range(1, num_recommendations + 1):\n",
    "    similar_track = track_table.iloc[similar_tracks[i][0]]['track_name']\n",
    "    similarity_score = similar_tracks[i][1]  # Score de similarité\n",
    "    print(f\"Recommendation {i}: {similar_track} (Similarity Score: {similarity_score})\")\n"
   ]
  },
  {
   "cell_type": "markdown",
   "metadata": {},
   "source": [
    "##### **Retrouver les infos d'une chanson juste en tapant le nom de la chanson et celui de l'artiste**"
   ]
  },
  {
   "cell_type": "code",
   "execution_count": null,
   "metadata": {},
   "outputs": [],
   "source": [
    "# import spotipy\n",
    "# from spotipy.oauth2 import SpotifyClientCredentials\n",
    "\n",
    "# # Configurez l'authentification\n",
    "# sp = spotipy.Spotify(auth_manager=SpotifyClientCredentials(client_id=client_id, client_secret=client_secret))\n",
    "\n",
    "# # Remplacez ces valeurs par le nom de la chanson et de l'artiste que vous recherchez\n",
    "# chanson = 'The Hills'\n",
    "# artiste = 'The Weeknd'\n",
    "\n",
    "# # Recherchez la chanson\n",
    "# results = sp.search(q=f'track:{chanson} artist:{artiste}', type='track')\n",
    "\n",
    "# # Obtenez les données de la première chanson de la liste de résultats\n",
    "# if len(results['tracks']['items']) > 0:\n",
    "#     chanson_data = results['tracks']['items'][0]\n",
    "#     print('Nom de la chanson:', chanson_data['name'])\n",
    "#     print('Artiste:', chanson_data['artists'][0]['name'])\n",
    "#     print('Album:', chanson_data['album']['name'])\n",
    "#     print('URL Spotify:', chanson_data['external_urls']['spotify'])\n",
    "# else:\n",
    "#     print('Chanson non trouvée.')\n"
   ]
  },
  {
   "cell_type": "code",
   "execution_count": null,
   "metadata": {},
   "outputs": [],
   "source": [
    "# Nom de l'album, de l'artiste\n",
    "# Type de chanson, rythmique, popularité\n",
    "# Lyrics --> Webscrapping\n",
    "\n",
    "# À voir : category, category_playlists, featured_playlists\n",
    "# playlist_add_items, playlist_change_details, artist_albums\n",
    "# artist_related_artists, artist_top_tracks, audio_analysis,\n",
    "# audio_features, playlist_cover_image, playlist_items\n",
    "# recommendation_genre_seeds, recommandations, search,\n",
    "# seek_track, user_playlists, get_access_token...\n",
    "\n",
    "# Possibilité d'écouter de l'audio depuis le site\n",
    "\n",
    "# Filtre pour ranger dans un certain ordre\n",
    "\n",
    "\n",
    "\n",
    "# ................................................................\n",
    "# # Retrieve the user's top tracks\n",
    "# top_tracks = sp.current_user_top_tracks(limit=10, time_range='medium_term')  # You can adjust the limit and time_range\n",
    "\n",
    "# # Print the top tracks\n",
    "# for idx, track in enumerate(top_tracks['items'], start=1):\n",
    "#     print(f\"{idx}. {track['name']} by {', '.join([artist['name'] for artist in track['artists']])}\")"
   ]
  }
 ],
 "metadata": {
  "kernelspec": {
   "display_name": "Python 3",
   "language": "python",
   "name": "python3"
  },
  "language_info": {
   "codemirror_mode": {
    "name": "ipython",
    "version": 3
   },
   "file_extension": ".py",
   "mimetype": "text/x-python",
   "name": "python",
   "nbconvert_exporter": "python",
   "pygments_lexer": "ipython3",
   "version": "3.12.0"
  },
  "orig_nbformat": 4
 },
 "nbformat": 4,
 "nbformat_minor": 2
}
